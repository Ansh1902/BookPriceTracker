{
 "cells": [
  {
   "cell_type": "code",
   "execution_count": 1,
   "id": "c80ab53b-c989-4014-bd8f-60786d4e8093",
   "metadata": {},
   "outputs": [],
   "source": [
    "from selenium import webdriver\n",
    "from selenium.webdriver.chrome.service import Service\n",
    "from selenium.webdriver.common.by import By\n",
    "from selenium.webdriver.common.keys import Keys\n",
    "import time, json\n",
    "from selenium import webdriver\n",
    "from selenium.webdriver.common.keys import Keys\n",
    "from time import sleep\n",
    "import time\n",
    "from selenium.webdriver.common.by import By\n",
    "from selenium.webdriver.support.ui import WebDriverWait\n",
    "from selenium.webdriver.support import expected_conditions as EC\n",
    "from selenium.common.exceptions import TimeoutException\n",
    "from selenium.webdriver.common.alert import Alert\n",
    "from selenium.webdriver.common.action_chains import ActionChains\n",
    "import pandas as pd \n",
    "from constants import USERNAME, PASSWORD\n",
    "import csv"
   ]
  },
  {
   "cell_type": "code",
   "execution_count": 2,
   "id": "63ba0705-ff27-4365-a7f4-90f43b84cf66",
   "metadata": {},
   "outputs": [],
   "source": [
    "folder_location = r'C:\\Users\\ANSH\\Downloads'\n",
    "driver_location = r'C:\\Users\\ANSH\\Downloads\\edgedriver_win64\\msedgedriver.exe'"
   ]
  },
  {
   "cell_type": "code",
   "execution_count": 3,
   "id": "85a4745d-a973-446e-b98e-c29e9d36f502",
   "metadata": {},
   "outputs": [
    {
     "name": "stdout",
     "output_type": "stream",
     "text": [
      "Logged in to Goodreads successfully.\n"
     ]
    }
   ],
   "source": [
    "url = r\"https://www.goodreads.com/ap/signin?openid.return_to=https%3A%2F%2Fwww.goodreads.com%2Fap-handler%2Fregister&prevRID=15BH3SQWC82BC4WPSF4E&openid.identity=http%3A%2F%2Fspecs.openid.net%2Fauth%2F2.0%2Fidentifier_select&openid.assoc_handle=amzn_goodreads_web_na&openid.mode=checkid_setup&siteState=eyJyZXR1cm5fdXJsIjoiaHR0cHM6Ly93d3cuZ29vZHJlYWRzLmNvbS8ifQ%3D%3D&language=en_US&openid.claimed_id=http%3A%2F%2Fspecs.openid.net%2Fauth%2F2.0%2Fidentifier_select&pageId=amzn_goodreads_web_na&openid.ns=http%3A%2F%2Fspecs.openid.net%2Fauth%2F2.0\" \n",
    "s = Service(driver_location)  \n",
    "driver = webdriver.Edge(service = s) \n",
    "driver.get(url)\n",
    "links = []\n",
    "\n",
    "\n",
    "#Sign in code\n",
    "try:\n",
    "        \n",
    "    wait = WebDriverWait(driver, 10)\n",
    "    username_field = wait.until(EC.presence_of_element_located((By.ID, 'ap_email')))\n",
    "    password_field = driver.find_element(By.ID, 'ap_password')\n",
    "        \n",
    "    username_field.send_keys(USERNAME)\n",
    "    password_field.send_keys(PASSWORD)\n",
    "    password_field.send_keys(Keys.RETURN)\n",
    "    print(\"Logged in to Goodreads successfully.\")\n",
    "        \n",
    "except TimeoutException:\n",
    "    print(\"Timeout while waiting for login elements.\")\n",
    "except NoSuchElementException:\n",
    "    print(\"Unable to find login elements.\")\n",
    "except WebDriverException as e:\n",
    "    print(f\"WebDriverException occurred during login: {e}\")\n",
    "except Exception as e:\n",
    "    print(f\"An unexpected error occurred during login: {e}\")\n",
    "\n",
    "\n",
    "url = r\"https://www.goodreads.com/review/list/179447053?ref=nav_mybooks\" \n",
    "x = Service(driver_location)  \n",
    "driver = webdriver.Edge(service = x) \n",
    "driver.get(url)"
   ]
  },
  {
   "cell_type": "code",
   "execution_count": 4,
   "id": "1845c723-f645-4bdc-b973-b790836c91b0",
   "metadata": {},
   "outputs": [
    {
     "name": "stdout",
     "output_type": "stream",
     "text": [
      "Steve Jobs\n",
      "Isaacson, Walter *\n",
      "4.16\n",
      "The Intelligent Investor\n",
      "Graham, Benjamin\n",
      "4.25\n",
      "The Personal MBA: Master the Art of Business\n",
      "Kaufman, Josh\n",
      "4.11\n",
      "Hidden Potential: The Science of Achieving Greater Things\n",
      "Grant, Adam M. *\n",
      "4.12\n",
      "Shoe Dog: A Memoir by the Creator of Nike\n",
      "Knight, Phil\n",
      "4.47\n",
      "Think Again: The Power of Knowing What You Don't Know\n",
      "Grant, Adam\n",
      "4.17\n",
      "Rich Dad, Poor Dad\n",
      "Kiyosaki, Robert T.\n",
      "4.11\n",
      "Start with Why: How Great Leaders Inspire Everyone to Take Action\n",
      "Sinek, Simon *\n",
      "4.10\n",
      "The Hard Thing About Hard Things: Building a Business When There Are No Easy Answers\n",
      "Horowitz, Ben *\n",
      "4.22\n",
      "How to Win Friends and Influence People\n",
      "Carnegie, Dale\n",
      "4.22\n",
      "The Lean Startup\n",
      "Ries, Eric *\n",
      "4.11\n",
      "Good to Great: Why Some Companies Make the Leap... and Others Don't\n",
      "Collins, James C.\n",
      "4.13\n"
     ]
    }
   ],
   "source": [
    "i=0\n",
    "Book_Title=[]\n",
    "Book_Author=[]\n",
    "Book_Rating=[]\n",
    "\n",
    "for i in range(12):\n",
    "    try:\n",
    "        element = driver.find_elements(\"xpath\",\"//td[@class='field title']\")[i].text\n",
    "        Book_Title.append(element)\n",
    "        print(element)\n",
    "    except Exception as e:\n",
    "        Book_Title.append('no Book_Title')\n",
    "\n",
    "    try:\n",
    "        element = driver.find_elements(\"xpath\",\"//td[@class='field author']\")[i].text\n",
    "        Book_Author.append(element)\n",
    "        print(element)\n",
    "    except Exception as e:\n",
    "        Book_Author.append('no Book_Title')\n",
    "\n",
    "    try:\n",
    "        element = driver.find_elements(\"xpath\",\"//td[@class='field avg_rating']\")[i].text\n",
    "        Book_Rating.append(element)\n",
    "        print(element)\n",
    "    except Exception as e:\n",
    "        Book_Rating.append('no Book_Title')\n",
    "\n",
    "df_dict = {'Title' : Book_Title , 'Author': Book_Author ,'Avg_Rating' : Book_Rating}\n"
   ]
  },
  {
   "cell_type": "code",
   "execution_count": 5,
   "id": "a832f1ac-4af9-4cf1-8d61-dc7ad3d4d071",
   "metadata": {},
   "outputs": [],
   "source": [
    "df2=pd.DataFrame(df_dict)\n",
    "df2.to_csv('books_goodreads.csv', index=False)"
   ]
  }
 ],
 "metadata": {
  "kernelspec": {
   "display_name": "Python 3 (ipykernel)",
   "language": "python",
   "name": "python3"
  },
  "language_info": {
   "codemirror_mode": {
    "name": "ipython",
    "version": 3
   },
   "file_extension": ".py",
   "mimetype": "text/x-python",
   "name": "python",
   "nbconvert_exporter": "python",
   "pygments_lexer": "ipython3",
   "version": "3.12.2"
  }
 },
 "nbformat": 4,
 "nbformat_minor": 5
}
