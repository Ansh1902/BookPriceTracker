{
 "cells": [
  {
   "cell_type": "code",
   "execution_count": 14,
   "metadata": {},
   "outputs": [],
   "source": [
    "import time\n",
    "import csv\n",
    "from selenium import webdriver\n",
    "from selenium.webdriver.common.by import By\n",
    "from selenium.webdriver.common.keys import Keys\n",
    "from selenium.webdriver.support.ui import WebDriverWait\n",
    "from selenium.webdriver.support import expected_conditions as EC\n",
    "from selenium.common.exceptions import NoSuchElementException, TimeoutException, WebDriverException\n",
    "from constants import USERNAME, PASSWORD  # Ensure USERNAME and PASSWORD are defined\n",
    "import pandas as pd"
   ]
  },
  {
   "cell_type": "code",
   "execution_count": 15,
   "metadata": {},
   "outputs": [],
   "source": [
    "def login_goodreads(driver):\n",
    "    try:\n",
    "        driver.get('https://www.goodreads.com/ap/signin?openid.return_to=https%3A%2F%2Fwww.goodreads.com%2Fap-handler%2Fregister&prevRID=15BH3SQWC82BC4WPSF4E&openid.identity=http%3A%2F%2Fspecs.openid.net%2Fauth%2F2.0%2Fidentifier_select&openid.assoc_handle=amzn_goodreads_web_na&openid.mode=checkid_setup&siteState=eyJyZXR1cm5fdXJsIjoiaHR0cHM6Ly93d3cuZ29vZHJlYWRzLmNvbS8ifQ%3D%3D&language=en_US&openid.claimed_id=http%3A%2F%2Fspecs.openid.net%2Fauth%2F2.0%2Fidentifier_select&pageId=amzn_goodreads_web_na&openid.ns=http%3A%2F%2Fspecs.openid.net%2Fauth%2F2.0')\n",
    "        print(\"Navigated to login page.\")\n",
    "        \n",
    "        wait = WebDriverWait(driver, 10)\n",
    "        username_field = wait.until(EC.presence_of_element_located((By.ID, 'ap_email')))\n",
    "        password_field = driver.find_element(By.ID, 'ap_password')\n",
    "        \n",
    "        username_field.send_keys(USERNAME)\n",
    "        password_field.send_keys(PASSWORD)\n",
    "        password_field.send_keys(Keys.RETURN)\n",
    "        print(\"Logged in to Goodreads successfully.\")\n",
    "        \n",
    "    except TimeoutException:\n",
    "        print(\"Timeout while waiting for login elements.\")\n",
    "    # except NoSuchElementException:\n",
    "    #     print(\"Unable to find login elements.\")\n",
    "    # except WebDriverException as e:\n",
    "    #     print(f\"WebDriverException occurred during login: {e}\")\n",
    "    except Exception as e:\n",
    "        print(f\"An unexpected error occurred during login: {e}\")"
   ]
  },
  {
   "cell_type": "code",
   "execution_count": 16,
   "metadata": {},
   "outputs": [],
   "source": [
    "i=0\n",
    "Book_Title=[]\n",
    "Book_Author=[]\n",
    "Book_Rating=[]\n",
    "\n",
    "for i in range(12):\n",
    "    try:\n",
    "        element = driver.find_elements(\"xpath\",\"//td[@class='field title']\")[i].text\n",
    "        Book_Title.append(element)\n",
    "        print(element)\n",
    "    except Exception as e:\n",
    "        Book_Title.append('no Book_Title')\n",
    "\n",
    "    try:\n",
    "        element = driver.find_elements(\"xpath\",\"//td[@class='field author']\")[i].text\n",
    "        Book_Author.append(element)\n",
    "        print(element)\n",
    "    except Exception as e:\n",
    "        Book_Author.append('no Book_Title')\n",
    "\n",
    "    try:\n",
    "        element = driver.find_elements(\"xpath\",\"//td[@class='field avg_rating']\")[i].text\n",
    "        Book_Rating.append(element)\n",
    "        print(element)\n",
    "    except Exception as e:\n",
    "        Book_Rating.append('no Book_Title')\n",
    "\n",
    "df_dict = {'title' : Book_Title , 'Author': Book_Author ,'Rating' : Book_Rating}\n"
   ]
  },
  {
   "cell_type": "code",
   "execution_count": 17,
   "metadata": {},
   "outputs": [],
   "source": [
    "df2=pd.DataFrame(df_dict)\n",
    "df2.to_csv('data.csv', index=False)"
   ]
  }
 ],
 "metadata": {
  "kernelspec": {
   "display_name": "Python 3",
   "language": "python",
   "name": "python3"
  },
  "language_info": {
   "codemirror_mode": {
    "name": "ipython",
    "version": 3
   },
   "file_extension": ".py",
   "mimetype": "text/x-python",
   "name": "python",
   "nbconvert_exporter": "python",
   "pygments_lexer": "ipython3",
   "version": "3.12.2"
  }
 },
 "nbformat": 4,
 "nbformat_minor": 2
}
