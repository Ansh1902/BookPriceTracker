{
 "cells": [
  {
   "cell_type": "code",
   "execution_count": 10,
   "metadata": {},
   "outputs": [
    {
     "name": "stdout",
     "output_type": "stream",
     "text": [
      "Merged data saved successfully to 'books_amazon_goodreads.csv'.\n"
     ]
    }
   ],
   "source": [
    "import pandas as pd\n",
    "from constants import DATE  # Assuming DATE is defined in constants.py\n",
    "\n",
    "# Read the existing Goodreads data\n",
    "df_new=pd.read_csv(f'Books_amazon_goodreads_{DATE}.csv')\n",
    "df_goodreads = pd.read_csv('books_goodreads.csv')\n",
    "\n",
    "# Assuming you have already extracted the data from Amazon and stored it in df_new\n",
    "\n",
    "# Example: assuming df_new is the DataFrame with Amazon data\n",
    "\n",
    "# Merge based on 'Title'\n",
    "df_merged = pd.merge(df_goodreads, df_new, on='Title', how='inner')\n",
    "\n",
    "# Save to CSV\n",
    "df_merged.to_csv('books_amazon_goodreads.csv', index=False)\n",
    "\n",
    "print(\"Merged data saved successfully to 'books_amazon_goodreads.csv'.\")\n"
   ]
  }
 ],
 "metadata": {
  "kernelspec": {
   "display_name": "base",
   "language": "python",
   "name": "python3"
  },
  "language_info": {
   "codemirror_mode": {
    "name": "ipython",
    "version": 3
   },
   "file_extension": ".py",
   "mimetype": "text/x-python",
   "name": "python",
   "nbconvert_exporter": "python",
   "pygments_lexer": "ipython3",
   "version": "3.11.7"
  }
 },
 "nbformat": 4,
 "nbformat_minor": 2
}
