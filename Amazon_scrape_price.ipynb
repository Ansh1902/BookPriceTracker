{
 "cells": [
  {
   "cell_type": "code",
   "execution_count": 1,
   "metadata": {},
   "outputs": [],
   "source": [
    "import csv\n",
    "import selenium\n",
    "from selenium import webdriver\n",
    "from selenium.webdriver.common.by import By\n",
    "from selenium.webdriver.common.keys import Keys\n",
    "from selenium.webdriver.support.ui import WebDriverWait\n",
    "from selenium.webdriver.support import expected_conditions as EC\n",
    "from selenium.webdriver.chrome.service import Service\n",
    "import pandas as pd\n",
    "import time\n",
    "from constants import DATE"
   ]
  },
  {
   "cell_type": "code",
   "execution_count": 2,
   "metadata": {},
   "outputs": [],
   "source": [
    "folder_location = r'C:\\Users\\ANSH\\Downloads'\n",
    "driver_location = r'C:\\Users\\ANSH\\Downloads\\edgedriver_win64\\msedgedriver.exe'"
   ]
  },
  {
   "cell_type": "code",
   "execution_count": 3,
   "metadata": {},
   "outputs": [
    {
     "name": "stdout",
     "output_type": "stream",
     "text": [
      "['Steve Jobs', 'The Intelligent Investor', 'The Personal MBA: Master the Art of Business', 'Hidden Potential: The Science of Achieving Greater Things', 'Shoe Dog: A Memoir by the Creator of Nike', \"Think Again: The Power of Knowing What You Don't Know\", 'Rich Dad, Poor Dad', 'Start with Why: How Great Leaders Inspire Everyone to Take Action', 'The Hard Thing About Hard Things: Building a Business When There Are No Easy Answers', 'How to Win Friends and Influence People', 'The Lean Startup', \"Good to Great: Why Some Companies Make the Leap... and Others Don't\"]\n"
     ]
    }
   ],
   "source": [
    "books = []\n",
    "with open('books_goodreads.csv', mode='r', newline='', encoding='utf-8') as file:\n",
    "    reader = csv.DictReader(file)\n",
    "    for row in reader:\n",
    "        books.append(row['Title'])\n",
    "print(books)   "
   ]
  },
  {
   "cell_type": "code",
   "execution_count": 4,
   "metadata": {},
   "outputs": [
    {
     "name": "stdout",
     "output_type": "stream",
     "text": [
      "https://www.amazon.in/sspa/click?ie=UTF8&spc=MTo0OTc2MzQ2ODcxMTA1MTgyOjE3MTk4MTQ5Njg6c3BfYXRmOjIwMTM0ODg4NzM4Nzk4OjowOjo&url=%2FSteve-Jobs-Info-Edge%2Fdp%2FB0B4SYT8KR%2Fref%3Dsr_1_1_sspa%3Fdib%3DeyJ2IjoiMSJ9.nlEzkOtFJ1vWuzk3loiqRYwf-tbwdFGoI_QfeHARwUtj8vQK4JDL82hRHMqkrVtjOXIQ_jz60jXm7DKCHOXojHXvnEjv5uKu8aXO65IaueA2vv-dcNjW3xvmkM7Pk33VtLxUTvdWaXzYORA5F5O1hHUAPUs2PRpz1hlM4Z1jS7VKvr2E8saQvp5Ek74-YnwBXX1lF4-2hlNQBr1TyFsEMGiIe8KNQD19FYogie6Mhtw.CHdvVCrZYf2RKjS5e96pDQzzgkVS9cg_P5UA0ShQU38%26dib_tag%3Dse%26keywords%3DSteve%2BJobs%26qid%3D1719814968%26sr%3D8-1-spons%26sp_csd%3Dd2lkZ2V0TmFtZT1zcF9hdGY%26psc%3D1\n",
      "https://www.amazon.in/sspa/click?ie=UTF8&spc=MTo0MDA1OTI0NDg3ODU5MTgyOjE3MTk4MTQ5Nzc6c3BfYXRmOjIwMDcyMjcwNDk2MjA0OjowOjo&url=%2FPSYCHOLOGY-MONEY-DELUXE-Morgan-Housel%2Fdp%2F9390166934%2Fref%3Dsr_1_1_sspa%3Fdib%3DeyJ2IjoiMSJ9.2u7J4MZ3MeaH0jGBgGp5zX4Vg3yyuDtngKsWyNwGC7MLKSA_wVu5ba1dBDTHwRXxZhkVriYiKU99tJw_1syUjQj_geI8LnZD_zirGJ1Bc6pgbfX6un1PtnUD--lMwygbPKtA3-TMKlBjjIUSdlxd9HGHN7nviua9_ATUgOTvMSXsqIO9xFI5FRtIV5enhGaAD153sKbVZrDooTlb94Z-aATIeoRyuLaIjGDZRYi1nV8.6HUWTWSQc1cAPTjBsj59xxMkZbzZJ42Y0fY35wD2Gl8%26dib_tag%3Dse%26keywords%3DThe%2BIntelligent%2BInvestor%26qid%3D1719814977%26sr%3D8-1-spons%26sp_csd%3Dd2lkZ2V0TmFtZT1zcF9hdGY%26psc%3D1\n",
      "https://www.amazon.in/Personal-MBA-World-Class-Business-Education/dp/0670919535/ref=sr_1_1?crid=1L3768W5PV4QI&dib=eyJ2IjoiMSJ9.RmUGFpkhP-2nckHYSayuqDQpomyIRBBQZEvQh5Np8GAiJp54U_aCAgYakYr-lE6RtB23bjnzxutkg5-qpjvjtHeBf68zyDm5h4w7ZLx0prrcjqSc7QHM1VnMC7GQ_lN5XifIvRn5WWt801hEvUwrsUqML0EH9-KjjlFWVkkTRVgWukXQp8_xH0xzE7pEv9qEAiK85nTPpai1SinQOlMRz5etZzgGMEbbbP0ilWDvyJM.5HzYT_DvqYqER6_vjfj4q03cZTN5e99-IqT9HX5xZK4&dib_tag=se&keywords=The+Personal+MBA%3A+Master+the+Art+of+Business&nsdOptOutParam=true&qid=1719814987&sprefix=%2Caps%2C226&sr=8-1\n",
      "https://www.amazon.in/sspa/click?ie=UTF8&spc=MToyNzAwNDc3NzUyMjI2MTgyOjE3MTk4MTQ5OTc6c3BfYXRmOjMwMDE2Mzk2NTU4MzczMjo6MDo6&url=%2FHidden-Potential-Science-Achieving-Greater%2Fdp%2F0753560046%2Fref%3Dsr_1_1_sspa%3Fcrid%3D1JZEEF1MKUODF%26dib%3DeyJ2IjoiMSJ9.amK_EXKGpvyZKaP2w45iY48VuMvjvlBdBqeXkCNEJjF_hITnucCugAVKmGCrDJGjextcohMIV_dPw8Rbb8if7hODSSn-VmUugb2-I0wTjLFi1DUP1HVSrVgvSURkGH9-_13iYwZ0ZtBtJjUf2SkHOEFd6WBW-8yJaEUMOloLcSr5hQEJhosC9McJedP95qCvmpKzMioDFD2OYmk17vwuYddMLtNqklIwN6HMIi7Z1CY.528yUIDpd5_p__vkTl7dHlDAjG4PwaW10mJzOd9AOcg%26dib_tag%3Dse%26keywords%3DHidden%2BPotential%253A%2BThe%2BScience%2Bof%2BAchieving%2BGreater%2BThings%26nsdOptOutParam%3Dtrue%26qid%3D1719814997%26sprefix%3Dhi%252Caps%252C227%26sr%3D8-1-spons%26sp_csd%3Dd2lkZ2V0TmFtZT1zcF9hdGY%26psc%3D1\n",
      "https://www.amazon.in/Shoe-Dog-Memoir-Creator-NIKE/dp/1471146723/ref=sr_1_1?dib=eyJ2IjoiMSJ9.5GdmQHyu8u5xgloqtfthxf0sKcrU2XeaA2YP9QRkRaMtadrEY4NSy8uhCJDme4oqNZBOaxAkTXRF4AEash5Wa_frDPyEPtRBjhQUVomrl11VLOGOHUzyfp6j4cKD5YKjDVJFr9JLiK_QxFxZaTK__aq2M-Mos44fJuhN4B1QzTauVemU31U-vfB2SOcxgKA1XdUxvaX0ff2cr41oPka4HqpdcKjLgeYazGvmBgsK0HY.fVLZi7uijRTdhDKAFQJbp2EOytBo0XFUlMCBCidVjk0&dib_tag=se&keywords=Shoe+Dog%3A+A+Memoir+by+the+Creator+of+Nike&nsdOptOutParam=true&qid=1719815018&sr=8-1\n",
      "https://www.amazon.in/Think-Again-Power-Knowing-What/dp/0753553910/ref=sr_1_1?dib=eyJ2IjoiMSJ9.f4nZ2CjKKgclWLBvMT8fG6N6z07DBCKtX1yxcbmjiQ7BQC_wO3gLLM91Pcyrb418UquD0IqRzMqftSawNQOjR1YjOK1Z3YZYhJM6C-jYj5-99uVauo0LStMs8KBEYCUhrXGtRqJdldp8bV5VGn9rCwpopzSfSl7yIjPE5RkzgpONdBiYwWVpLyx6EqECycBpThHH-WpjHC-y5D2OOqaT7XrQsUUyJlZHhxEnud8iQ4o.956IRafVa86QZnY3pw9xd29pjN4iTF2y5g04B5rjbWA&dib_tag=se&keywords=Think+Again%3A+The+Power+of+Knowing+What+You+Don%27t+Know&nsdOptOutParam=true&qid=1719815028&sr=8-1\n",
      "https://www.amazon.in/Rich-Dad-Poor-Middle-Anniversary/dp/1612681131/ref=sr_1_1?dib=eyJ2IjoiMSJ9.y7O8h4lj0TEhWugy0UCeAnGY7oxO3SQ-FaBt3PvbKuclOakq9Opm50BO6BjttfFjo5qYjhMMOjjvlPx3Cfc-_xT-6cfOFJS16v-IJ9hvWCcUhAYSW5qYv7wbHECGwTCn2Z7OmRw4OrZRrMsSF-yGOlqh3T9DoOy1hRQ2cEZ95cV4QcVhthJ4VFp201deC6WRb2Msuin_Tv4h4iXqGtNkv-QH7x1QC22krq8aDE7iG40.11iu0NjGyLiNEOj_RbX_xr22wCQXSxIYVtlxJxFElvc&dib_tag=se&keywords=Rich+Dad%2C+Poor+Dad&qid=1719815037&sr=8-1\n",
      "https://www.amazon.in/sspa/click?ie=UTF8&spc=MTo0MTU1ODk1MDUwNjExODI6MTcxOTgxNTA0NjpzcF9hdGY6MjAwNjg1NjA2NjYyMDc6OjA6Og&url=%2FMultipliers-Leaders-Everyone-Revised-Updated%2Fdp%2F0062699172%2Fref%3Dsr_1_1_sspa%3Fcrid%3DA8GKBTQSXO7T%26dib%3DeyJ2IjoiMSJ9.gqdiLk3_fJK8edldMHhMhBSI8FgwFEgF2srV7QdfjCuNoD2ijzpNAQcagtQFgbbslWFHKoLuuvpwu0K4Jjkb55VEHn4suq0_oGhmildMmUgkHvOYn1HJaeqTlTZoqaadXBHjncAhqLoc-V_9OXqF3aXzbBZpGX9cUT9qWRoLlN9B-qznxSHnrJ66Meho0OYAxGtWMBRf0mK9rsHZU51P_ECT8h6kMJk-IT7yqnts8xU.sWF0SK5RrG1JORKKaTR7fwr1z6Z5CqaNuiyFMHuYMv8%26dib_tag%3Dse%26keywords%3DStart%2Bwith%2BWhy%253A%2BHow%2BGreat%2BLeaders%2BInspire%2BEveryone%2Bto%2BTake%2BAction%26nsdOptOutParam%3Dtrue%26qid%3D1719815046%26sprefix%3Dstart%2Bwith%2Bwh%252Caps%252C270%26sr%3D8-1-spons%26sp_csd%3Dd2lkZ2V0TmFtZT1zcF9hdGY%26psc%3D1\n",
      "https://www.amazon.in/Hard-Thing-about-Building-Business/dp/B0D7733GDK/ref=sr_1_1?crid=2E895594XDT7M&dib=eyJ2IjoiMSJ9.F1s78-ECobLXnMlO-Xm5aFZpubdD7g_seYgWts-WdH3QLSKVhZosDRAmGVS561EULlyigfy46yXPzO3HFnoG6xbeKTBAul423hcGIYls6qX3VY2mSWk5dgdaaBMQUMuuduzWaCW1gm5V9yL7Y0zUwiCoZTWORb8bWrskMd1jh4Zs7_Rp-qCNTDMfrSYZrFwbm2QYwnd3FzbHZ39eT4CttcPdHlPsIM_e3ARdY3j0qGY.C4d0bcZsn-rC873tRTc4_Y8saZhAKKy3SEpp5jOJFsw&dib_tag=se&keywords=The+Hard+Thing+About+Hard+Things%3A+Building+a+Business+When+There+Are+No+Easy+Answers&nsdOptOutParam=true&qid=1719815054&sprefix=the+hard+thing+abou%2Caps%2C275&sr=8-1\n",
      "https://www.amazon.in/sspa/click?ie=UTF8&spc=MTo0MDg4OTkxMzQwNTg3MTgyOjE3MTk4MTUwNjU6c3BfYXRmOjIwMDg1MDExNDc2MjA0OjowOjo&url=%2FHow-Win-Friends-Influence-People%2Fdp%2F8194790891%2Fref%3Dsr_1_1_sspa%3Fcrid%3D2XT6AWU9T2QPY%26dib%3DeyJ2IjoiMSJ9.pMYY6KWykpoIZjB-dj1Me_UaLEGZE_K3q4sPFt4pZ5AtsIBnmgnVghyn2JIjAqz5kPn1MxEl2pQVrTwRZO5134nSSteKopgzPr9jvPDfmOWTLZX-psa6PNkqLl6PuW-qe0LZZf4gfsLTZSLuoidUh3q134HrboBSUqvWRwpPvYCUokPrEbBpNLLYfu85xmLDp3SGGUcvlNu7fqq1ij0XTzL0clkFylegtcvF8K1zwOc.dVi--rHFTfkRk9WFlReEO5QRIjncpRTP1Pe5nN3nSX8%26dib_tag%3Dse%26keywords%3DHow%2Bto%2BWin%2BFriends%2Band%2BInfluence%2BPeople%26qid%3D1719815065%26sprefix%3D%252Caps%252C208%26sr%3D8-1-spons%26sp_csd%3Dd2lkZ2V0TmFtZT1zcF9hdGY%26psc%3D1\n",
      "https://www.amazon.in/sspa/click?ie=UTF8&spc=MTo4MzA0OTM5NDE5MDcwMTgyOjE3MTk4MTUwNzQ6c3BfYXRmOjIwMTAxMDcxNTA2MDk4OjowOjo&url=%2FLean-Startup-Methodology-Accelerate-Successful%2Fdp%2F1951754352%2Fref%3Dsr_1_1_sspa%3Fdib%3DeyJ2IjoiMSJ9.iACmFzifSZqhIUx8FBm5UY7764nRQ4UE-EkhMFfIOX98fDRPJhK36yOpxosquU5_wU74yj0LJZGf99e8ezUVWuy1TATJaljEgkgm1mOIhCOnE9oAPnO9OczPJmRfU6r5d0YMJOzDm0qVpXgj8dZYNJiLaEk8JMbcxqBEijV_vVpfQoOKn00bVtUEpBCjxGPptrIKC5qdLcyreEnsrQSfj4Be4awk_AiQXjbNx5lryEw.0MvXRtnylDPDKk9iTNrWgQ90Ed15UTVMMaomSupjKbI%26dib_tag%3Dse%26keywords%3DThe%2BLean%2BStartup%26qid%3D1719815074%26sr%3D8-1-spons%26sp_csd%3Dd2lkZ2V0TmFtZT1zcF9hdGY%26psc%3D1\n",
      "https://www.amazon.in/Good-Great-Some-Companies-Others/dp/0712676090/ref=sr_1_1?crid=3DJTHX1HTGDT6&dib=eyJ2IjoiMSJ9.BMUZjKmzF50RyJrEjH_sk2RhaGEerbZo50gg26HLMVFgRRQnWbPw8UQGZfLU6nx9h0oTGkZcsEUkcH5-BvPPcI71DL9TOqAkCqtKM3-FNWTkcmRYB8fPHOY2ZEoSyeTZgwOeGwJjq8zQt9omsBR6tdpB8qFBNGnt_H6nQ30Vl63zlHu627m4TEuol0_b3_u2vDYNG4jILF6tauzfXqnnux19CUWNPMfF1pQjXJOu-BM.oi8Vh9Am6aVtNg45cc_XHZ-pALJ6HyoRQaHgB3QwwFU&dib_tag=se&keywords=Good+to+Great%3A+Why+Some+Companies+Make+the+Leap...+and+Others+Don%27t&nsdOptOutParam=true&qid=1719815083&sprefix=good+to+great%2Caps%2C279&sr=8-1\n"
     ]
    }
   ],
   "source": [
    "links=[]\n",
    "for book in books:\n",
    "    url = r\"https://www.amazon.in\" \n",
    "    s = Service(driver_location)  \n",
    "    driver = webdriver.Edge(service = s) \n",
    "    driver.get(url)\n",
    "    # webdriver.get('https://www.amazon.in')\n",
    "    search_box = driver.find_element(By.ID, 'twotabsearchtextbox')\n",
    "    search_box.send_keys(book)\n",
    "    search_box.send_keys(Keys.RETURN)\n",
    "\n",
    "    wait = WebDriverWait(driver, 10)\n",
    "    # first_result = wait.until(EC.presence_of_all_elements_located((By.XPATH, '//a[@class=\"a-link-normal s-underline-text s-underline-link-text s-link-style a-text-normal\"]')))\n",
    "    # elements = first_result[0]\n",
    "    # elements.click()\n",
    "    try:\n",
    "        elements = driver.find_elements(\"xpath\", \"//a[@class='a-link-normal s-underline-text s-underline-link-text s-link-style a-text-normal']\")[0]\n",
    "\n",
    " # Extract the href attribute from the located anchor tag\n",
    "        href = elements.get_attribute('href')\n",
    "\n",
    "# # Print the extracted href link\n",
    "        print(href)\n",
    "        links.append(href)\n",
    "        # print(href)\n",
    "    except:\n",
    "        time.sleep(5)\n",
    "\n"
   ]
  },
  {
   "cell_type": "code",
   "execution_count": 5,
   "metadata": {},
   "outputs": [
    {
     "name": "stdout",
     "output_type": "stream",
     "text": [
      "['https://www.amazon.in/sspa/click?ie=UTF8&spc=MTo0OTc2MzQ2ODcxMTA1MTgyOjE3MTk4MTQ5Njg6c3BfYXRmOjIwMTM0ODg4NzM4Nzk4OjowOjo&url=%2FSteve-Jobs-Info-Edge%2Fdp%2FB0B4SYT8KR%2Fref%3Dsr_1_1_sspa%3Fdib%3DeyJ2IjoiMSJ9.nlEzkOtFJ1vWuzk3loiqRYwf-tbwdFGoI_QfeHARwUtj8vQK4JDL82hRHMqkrVtjOXIQ_jz60jXm7DKCHOXojHXvnEjv5uKu8aXO65IaueA2vv-dcNjW3xvmkM7Pk33VtLxUTvdWaXzYORA5F5O1hHUAPUs2PRpz1hlM4Z1jS7VKvr2E8saQvp5Ek74-YnwBXX1lF4-2hlNQBr1TyFsEMGiIe8KNQD19FYogie6Mhtw.CHdvVCrZYf2RKjS5e96pDQzzgkVS9cg_P5UA0ShQU38%26dib_tag%3Dse%26keywords%3DSteve%2BJobs%26qid%3D1719814968%26sr%3D8-1-spons%26sp_csd%3Dd2lkZ2V0TmFtZT1zcF9hdGY%26psc%3D1', 'https://www.amazon.in/sspa/click?ie=UTF8&spc=MTo0MDA1OTI0NDg3ODU5MTgyOjE3MTk4MTQ5Nzc6c3BfYXRmOjIwMDcyMjcwNDk2MjA0OjowOjo&url=%2FPSYCHOLOGY-MONEY-DELUXE-Morgan-Housel%2Fdp%2F9390166934%2Fref%3Dsr_1_1_sspa%3Fdib%3DeyJ2IjoiMSJ9.2u7J4MZ3MeaH0jGBgGp5zX4Vg3yyuDtngKsWyNwGC7MLKSA_wVu5ba1dBDTHwRXxZhkVriYiKU99tJw_1syUjQj_geI8LnZD_zirGJ1Bc6pgbfX6un1PtnUD--lMwygbPKtA3-TMKlBjjIUSdlxd9HGHN7nviua9_ATUgOTvMSXsqIO9xFI5FRtIV5enhGaAD153sKbVZrDooTlb94Z-aATIeoRyuLaIjGDZRYi1nV8.6HUWTWSQc1cAPTjBsj59xxMkZbzZJ42Y0fY35wD2Gl8%26dib_tag%3Dse%26keywords%3DThe%2BIntelligent%2BInvestor%26qid%3D1719814977%26sr%3D8-1-spons%26sp_csd%3Dd2lkZ2V0TmFtZT1zcF9hdGY%26psc%3D1', 'https://www.amazon.in/Personal-MBA-World-Class-Business-Education/dp/0670919535/ref=sr_1_1?crid=1L3768W5PV4QI&dib=eyJ2IjoiMSJ9.RmUGFpkhP-2nckHYSayuqDQpomyIRBBQZEvQh5Np8GAiJp54U_aCAgYakYr-lE6RtB23bjnzxutkg5-qpjvjtHeBf68zyDm5h4w7ZLx0prrcjqSc7QHM1VnMC7GQ_lN5XifIvRn5WWt801hEvUwrsUqML0EH9-KjjlFWVkkTRVgWukXQp8_xH0xzE7pEv9qEAiK85nTPpai1SinQOlMRz5etZzgGMEbbbP0ilWDvyJM.5HzYT_DvqYqER6_vjfj4q03cZTN5e99-IqT9HX5xZK4&dib_tag=se&keywords=The+Personal+MBA%3A+Master+the+Art+of+Business&nsdOptOutParam=true&qid=1719814987&sprefix=%2Caps%2C226&sr=8-1', 'https://www.amazon.in/sspa/click?ie=UTF8&spc=MToyNzAwNDc3NzUyMjI2MTgyOjE3MTk4MTQ5OTc6c3BfYXRmOjMwMDE2Mzk2NTU4MzczMjo6MDo6&url=%2FHidden-Potential-Science-Achieving-Greater%2Fdp%2F0753560046%2Fref%3Dsr_1_1_sspa%3Fcrid%3D1JZEEF1MKUODF%26dib%3DeyJ2IjoiMSJ9.amK_EXKGpvyZKaP2w45iY48VuMvjvlBdBqeXkCNEJjF_hITnucCugAVKmGCrDJGjextcohMIV_dPw8Rbb8if7hODSSn-VmUugb2-I0wTjLFi1DUP1HVSrVgvSURkGH9-_13iYwZ0ZtBtJjUf2SkHOEFd6WBW-8yJaEUMOloLcSr5hQEJhosC9McJedP95qCvmpKzMioDFD2OYmk17vwuYddMLtNqklIwN6HMIi7Z1CY.528yUIDpd5_p__vkTl7dHlDAjG4PwaW10mJzOd9AOcg%26dib_tag%3Dse%26keywords%3DHidden%2BPotential%253A%2BThe%2BScience%2Bof%2BAchieving%2BGreater%2BThings%26nsdOptOutParam%3Dtrue%26qid%3D1719814997%26sprefix%3Dhi%252Caps%252C227%26sr%3D8-1-spons%26sp_csd%3Dd2lkZ2V0TmFtZT1zcF9hdGY%26psc%3D1', 'https://www.amazon.in/Shoe-Dog-Memoir-Creator-NIKE/dp/1471146723/ref=sr_1_1?dib=eyJ2IjoiMSJ9.5GdmQHyu8u5xgloqtfthxf0sKcrU2XeaA2YP9QRkRaMtadrEY4NSy8uhCJDme4oqNZBOaxAkTXRF4AEash5Wa_frDPyEPtRBjhQUVomrl11VLOGOHUzyfp6j4cKD5YKjDVJFr9JLiK_QxFxZaTK__aq2M-Mos44fJuhN4B1QzTauVemU31U-vfB2SOcxgKA1XdUxvaX0ff2cr41oPka4HqpdcKjLgeYazGvmBgsK0HY.fVLZi7uijRTdhDKAFQJbp2EOytBo0XFUlMCBCidVjk0&dib_tag=se&keywords=Shoe+Dog%3A+A+Memoir+by+the+Creator+of+Nike&nsdOptOutParam=true&qid=1719815018&sr=8-1', 'https://www.amazon.in/Think-Again-Power-Knowing-What/dp/0753553910/ref=sr_1_1?dib=eyJ2IjoiMSJ9.f4nZ2CjKKgclWLBvMT8fG6N6z07DBCKtX1yxcbmjiQ7BQC_wO3gLLM91Pcyrb418UquD0IqRzMqftSawNQOjR1YjOK1Z3YZYhJM6C-jYj5-99uVauo0LStMs8KBEYCUhrXGtRqJdldp8bV5VGn9rCwpopzSfSl7yIjPE5RkzgpONdBiYwWVpLyx6EqECycBpThHH-WpjHC-y5D2OOqaT7XrQsUUyJlZHhxEnud8iQ4o.956IRafVa86QZnY3pw9xd29pjN4iTF2y5g04B5rjbWA&dib_tag=se&keywords=Think+Again%3A+The+Power+of+Knowing+What+You+Don%27t+Know&nsdOptOutParam=true&qid=1719815028&sr=8-1', 'https://www.amazon.in/Rich-Dad-Poor-Middle-Anniversary/dp/1612681131/ref=sr_1_1?dib=eyJ2IjoiMSJ9.y7O8h4lj0TEhWugy0UCeAnGY7oxO3SQ-FaBt3PvbKuclOakq9Opm50BO6BjttfFjo5qYjhMMOjjvlPx3Cfc-_xT-6cfOFJS16v-IJ9hvWCcUhAYSW5qYv7wbHECGwTCn2Z7OmRw4OrZRrMsSF-yGOlqh3T9DoOy1hRQ2cEZ95cV4QcVhthJ4VFp201deC6WRb2Msuin_Tv4h4iXqGtNkv-QH7x1QC22krq8aDE7iG40.11iu0NjGyLiNEOj_RbX_xr22wCQXSxIYVtlxJxFElvc&dib_tag=se&keywords=Rich+Dad%2C+Poor+Dad&qid=1719815037&sr=8-1', 'https://www.amazon.in/sspa/click?ie=UTF8&spc=MTo0MTU1ODk1MDUwNjExODI6MTcxOTgxNTA0NjpzcF9hdGY6MjAwNjg1NjA2NjYyMDc6OjA6Og&url=%2FMultipliers-Leaders-Everyone-Revised-Updated%2Fdp%2F0062699172%2Fref%3Dsr_1_1_sspa%3Fcrid%3DA8GKBTQSXO7T%26dib%3DeyJ2IjoiMSJ9.gqdiLk3_fJK8edldMHhMhBSI8FgwFEgF2srV7QdfjCuNoD2ijzpNAQcagtQFgbbslWFHKoLuuvpwu0K4Jjkb55VEHn4suq0_oGhmildMmUgkHvOYn1HJaeqTlTZoqaadXBHjncAhqLoc-V_9OXqF3aXzbBZpGX9cUT9qWRoLlN9B-qznxSHnrJ66Meho0OYAxGtWMBRf0mK9rsHZU51P_ECT8h6kMJk-IT7yqnts8xU.sWF0SK5RrG1JORKKaTR7fwr1z6Z5CqaNuiyFMHuYMv8%26dib_tag%3Dse%26keywords%3DStart%2Bwith%2BWhy%253A%2BHow%2BGreat%2BLeaders%2BInspire%2BEveryone%2Bto%2BTake%2BAction%26nsdOptOutParam%3Dtrue%26qid%3D1719815046%26sprefix%3Dstart%2Bwith%2Bwh%252Caps%252C270%26sr%3D8-1-spons%26sp_csd%3Dd2lkZ2V0TmFtZT1zcF9hdGY%26psc%3D1', 'https://www.amazon.in/Hard-Thing-about-Building-Business/dp/B0D7733GDK/ref=sr_1_1?crid=2E895594XDT7M&dib=eyJ2IjoiMSJ9.F1s78-ECobLXnMlO-Xm5aFZpubdD7g_seYgWts-WdH3QLSKVhZosDRAmGVS561EULlyigfy46yXPzO3HFnoG6xbeKTBAul423hcGIYls6qX3VY2mSWk5dgdaaBMQUMuuduzWaCW1gm5V9yL7Y0zUwiCoZTWORb8bWrskMd1jh4Zs7_Rp-qCNTDMfrSYZrFwbm2QYwnd3FzbHZ39eT4CttcPdHlPsIM_e3ARdY3j0qGY.C4d0bcZsn-rC873tRTc4_Y8saZhAKKy3SEpp5jOJFsw&dib_tag=se&keywords=The+Hard+Thing+About+Hard+Things%3A+Building+a+Business+When+There+Are+No+Easy+Answers&nsdOptOutParam=true&qid=1719815054&sprefix=the+hard+thing+abou%2Caps%2C275&sr=8-1', 'https://www.amazon.in/sspa/click?ie=UTF8&spc=MTo0MDg4OTkxMzQwNTg3MTgyOjE3MTk4MTUwNjU6c3BfYXRmOjIwMDg1MDExNDc2MjA0OjowOjo&url=%2FHow-Win-Friends-Influence-People%2Fdp%2F8194790891%2Fref%3Dsr_1_1_sspa%3Fcrid%3D2XT6AWU9T2QPY%26dib%3DeyJ2IjoiMSJ9.pMYY6KWykpoIZjB-dj1Me_UaLEGZE_K3q4sPFt4pZ5AtsIBnmgnVghyn2JIjAqz5kPn1MxEl2pQVrTwRZO5134nSSteKopgzPr9jvPDfmOWTLZX-psa6PNkqLl6PuW-qe0LZZf4gfsLTZSLuoidUh3q134HrboBSUqvWRwpPvYCUokPrEbBpNLLYfu85xmLDp3SGGUcvlNu7fqq1ij0XTzL0clkFylegtcvF8K1zwOc.dVi--rHFTfkRk9WFlReEO5QRIjncpRTP1Pe5nN3nSX8%26dib_tag%3Dse%26keywords%3DHow%2Bto%2BWin%2BFriends%2Band%2BInfluence%2BPeople%26qid%3D1719815065%26sprefix%3D%252Caps%252C208%26sr%3D8-1-spons%26sp_csd%3Dd2lkZ2V0TmFtZT1zcF9hdGY%26psc%3D1', 'https://www.amazon.in/sspa/click?ie=UTF8&spc=MTo4MzA0OTM5NDE5MDcwMTgyOjE3MTk4MTUwNzQ6c3BfYXRmOjIwMTAxMDcxNTA2MDk4OjowOjo&url=%2FLean-Startup-Methodology-Accelerate-Successful%2Fdp%2F1951754352%2Fref%3Dsr_1_1_sspa%3Fdib%3DeyJ2IjoiMSJ9.iACmFzifSZqhIUx8FBm5UY7764nRQ4UE-EkhMFfIOX98fDRPJhK36yOpxosquU5_wU74yj0LJZGf99e8ezUVWuy1TATJaljEgkgm1mOIhCOnE9oAPnO9OczPJmRfU6r5d0YMJOzDm0qVpXgj8dZYNJiLaEk8JMbcxqBEijV_vVpfQoOKn00bVtUEpBCjxGPptrIKC5qdLcyreEnsrQSfj4Be4awk_AiQXjbNx5lryEw.0MvXRtnylDPDKk9iTNrWgQ90Ed15UTVMMaomSupjKbI%26dib_tag%3Dse%26keywords%3DThe%2BLean%2BStartup%26qid%3D1719815074%26sr%3D8-1-spons%26sp_csd%3Dd2lkZ2V0TmFtZT1zcF9hdGY%26psc%3D1', 'https://www.amazon.in/Good-Great-Some-Companies-Others/dp/0712676090/ref=sr_1_1?crid=3DJTHX1HTGDT6&dib=eyJ2IjoiMSJ9.BMUZjKmzF50RyJrEjH_sk2RhaGEerbZo50gg26HLMVFgRRQnWbPw8UQGZfLU6nx9h0oTGkZcsEUkcH5-BvPPcI71DL9TOqAkCqtKM3-FNWTkcmRYB8fPHOY2ZEoSyeTZgwOeGwJjq8zQt9omsBR6tdpB8qFBNGnt_H6nQ30Vl63zlHu627m4TEuol0_b3_u2vDYNG4jILF6tauzfXqnnux19CUWNPMfF1pQjXJOu-BM.oi8Vh9Am6aVtNg45cc_XHZ-pALJ6HyoRQaHgB3QwwFU&dib_tag=se&keywords=Good+to+Great%3A+Why+Some+Companies+Make+the+Leap...+and+Others+Don%27t&nsdOptOutParam=true&qid=1719815083&sprefix=good+to+great%2Caps%2C279&sr=8-1']\n"
     ]
    }
   ],
   "source": [
    "print(links)"
   ]
  },
  {
   "cell_type": "code",
   "execution_count": 6,
   "metadata": {},
   "outputs": [],
   "source": [
    "title= []\n",
    "Kindleprice=[]\n",
    "AudiobookPrice=[]\n",
    "HardcoverPrice=[]\n",
    "PaperbackPrice=[]\n",
    "Rating=[]\n",
    "Seller=[]\n",
    "for link in links:\n",
    "    s = Service(driver_location)  \n",
    "    driver = webdriver.Edge(service = s) \n",
    "    # driver.get(url)\n",
    "    driver.get(link)\n",
    "    \n",
    "        # 'KindlePrice': '',\n",
    "        # 'AudiobookPrice': '',\n",
    "        # 'HardcoverPrice': '',\n",
    "        # 'PaperbackPrice': '',\n",
    "        # 'Rating': '',\n",
    "        # 'Seller': ''\n",
    "    \n",
    "    try:\n",
    "        element = driver.find_element(\"xpath\",\"//h1[@class='a-spacing-none a-text-normal']\").text\n",
    "        title.append(element)  \n",
    "    except Exception as e:\n",
    "        title.append('No Title')  \n",
    "        # book_details['title'] = 'no title'\n",
    "\n",
    "    try:\n",
    "        element = driver.find_elements(\"xpath\", \"//span[@class='slot-price']\")[0].text\n",
    "        Kindleprice.append(element)\n",
    "        # book_details['KindlePrice'] = element\n",
    "    except Exception as e:\n",
    "        Kindleprice.append('No KindlePrice')\n",
    "        # book_details['KindlePrice'] = 'no Kindleprice'\n",
    "\n",
    "    try:\n",
    "        element = driver.find_elements(\"xpath\", \"//span[@class='slot-price']\")[1].text\n",
    "        AudiobookPrice.append(element)\n",
    "        # book_details['AudiobookPrice'] = element\n",
    "    except Exception as e:\n",
    "        AudiobookPrice.append('No AudiobookPrice')\n",
    "        # book_details['AudiobookPrice'] = 'no Audiobookprice'\n",
    "\n",
    "    try:\n",
    "        element = driver.find_elements(\"xpath\", \"//span[@class='slot-price']\")[2].text\n",
    "        HardcoverPrice.append(element)\n",
    "        # book_details['HardcoverPrice'] = element\n",
    "    except Exception as e:\n",
    "        HardcoverPrice.append('No HardcoverPrice')\n",
    "        # book_details['HardcoverPrice'] = 'no Hardcoverprice'\n",
    "\n",
    "    try:\n",
    "        element = driver.find_elements(\"xpath\", \"//span[@class='slot-price']\")[3].text\n",
    "        PaperbackPrice.append(element)\n",
    "        # book_details['PaperbackPrice'] = element\n",
    "    except Exception as e:\n",
    "        PaperbackPrice.append('No PaperbackPrice')\n",
    "        # book_details['PaperbackPrice'] = 'no Paperbackprice'\n",
    "\n",
    "    try:\n",
    "        element = driver.find_elements(\"xpath\", \"//span[@class='a-size-base a-color-base']\")[1].text\n",
    "        # book_details['Rating'] = element\n",
    "        Rating.append(element)\n",
    "    except Exception as e:\n",
    "        # book_details['Rating'] = 'no rating'\n",
    "        Rating.append('No Rating')\n",
    "\n",
    "\n",
    "    try:\n",
    "        element = driver.find_elements(\"xpath\", \"//span[@class='a-size-small tabular-buybox-text-message']\")[1].text\n",
    "        # book_details['Seller'] = element\n",
    "        Seller.append(element)\n",
    "    except Exception as e:\n",
    "        Seller.append('No Seller')\n",
    "        # book_details['Seller'] = 'no seller'\n",
    "\n",
    "    df={'Title' : title,'KindlePrice' : Kindleprice, 'AudiobookPrice': AudiobookPrice, 'HardcoverPrice': HardcoverPrice, 'PaperBackPrice':PaperbackPrice, 'Rating': Rating, 'Seller': Seller}\n",
    "    df2=pd.DataFrame(df)\n",
    "    df2.to_csv(f'Books_amazon_goodreads_{DATE}.csv', index=False)"
   ]
  },
  {
   "cell_type": "code",
   "execution_count": null,
   "metadata": {},
   "outputs": [],
   "source": []
  }
 ],
 "metadata": {
  "kernelspec": {
   "display_name": "Python 3",
   "language": "python",
   "name": "python3"
  },
  "language_info": {
   "codemirror_mode": {
    "name": "ipython",
    "version": 3
   },
   "file_extension": ".py",
   "mimetype": "text/x-python",
   "name": "python",
   "nbconvert_exporter": "python",
   "pygments_lexer": "ipython3",
   "version": "3.11.7"
  }
 },
 "nbformat": 4,
 "nbformat_minor": 2
}
